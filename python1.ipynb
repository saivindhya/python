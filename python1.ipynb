{
 "cells": [
  {
   "cell_type": "code",
   "execution_count": 1,
   "metadata": {},
   "outputs": [
    {
     "name": "stdout",
     "output_type": "stream",
     "text": [
      "enter first number3\n",
      "enter second number2\n",
      "the sum of3and2is5.0\n"
     ]
    }
   ],
   "source": [
    "a=input('enter first number')\n",
    "b=input('enter second number')\n",
    "sum=float(a)+float(b)\n",
    "print('the sum of{0}and{1}is{2}'.format(a,b,sum))"
   ]
  },
  {
   "cell_type": "code",
   "execution_count": 2,
   "metadata": {},
   "outputs": [
    {
     "name": "stdout",
     "output_type": "stream",
     "text": [
      "enter first number3\n",
      "enter second number2\n",
      "the sub of3and2is1.0\n"
     ]
    }
   ],
   "source": [
    "a=input('enter first number')\n",
    "b=input('enter second number')\n",
    "sub=float(a)-float(b)\n",
    "print('the sub of{0}and{1}is{2}'.format(a,b,sub))"
   ]
  },
  {
   "cell_type": "code",
   "execution_count": 3,
   "metadata": {},
   "outputs": [
    {
     "name": "stdout",
     "output_type": "stream",
     "text": [
      "enter first number3\n",
      "enter second number2\n",
      "the mul of3and2is6.0\n"
     ]
    }
   ],
   "source": [
    "a=input('enter first number')\n",
    "b=input('enter second number')\n",
    "mul=float(a)*float(b)\n",
    "print('the mul of{0}and{1}is{2}'.format(a,b,mul))"
   ]
  },
  {
   "cell_type": "code",
   "execution_count": 4,
   "metadata": {},
   "outputs": [
    {
     "name": "stdout",
     "output_type": "stream",
     "text": [
      "enter first number3\n",
      "enter second number2\n",
      "the div of3and2is1.5\n"
     ]
    }
   ],
   "source": [
    "a=input('enter first number')\n",
    "b=input('enter second number')\n",
    "div=float(a)/float(b)\n",
    "print('the div of{0}and{1}is{2}'.format(a,b,div))"
   ]
  },
  {
   "cell_type": "code",
   "execution_count": 5,
   "metadata": {},
   "outputs": [
    {
     "name": "stdout",
     "output_type": "stream",
     "text": [
      "enter first number3\n",
      "enter second number2\n",
      "the mod of3and2is1.0\n"
     ]
    }
   ],
   "source": [
    "a=input('enter first number')\n",
    "b=input('enter second number')\n",
    "mod=float(a)%float(b)\n",
    "print('the mod of{0}and{1}is{2}'.format(a,b,mod))"
   ]
  },
  {
   "cell_type": "code",
   "execution_count": 6,
   "metadata": {},
   "outputs": [
    {
     "name": "stdout",
     "output_type": "stream",
     "text": [
      "enter first number3\n",
      "enter second number2\n",
      "the exp of3and2is9.0\n"
     ]
    }
   ],
   "source": [
    "a=input('enter first number')\n",
    "b=input('enter second number')\n",
    "exp=float(a)**float(b)\n",
    "print('the exp of{0}and{1}is{2}'.format(a,b,exp))"
   ]
  },
  {
   "cell_type": "code",
   "execution_count": 7,
   "metadata": {},
   "outputs": [
    {
     "name": "stdout",
     "output_type": "stream",
     "text": [
      "enter first number3\n",
      "enter second number2\n",
      "the floor of3and2is1.0\n"
     ]
    }
   ],
   "source": [
    "a=input('enter first number')\n",
    "b=input('enter second number')\n",
    "floor=float(a)//float(b)\n",
    "print('the floor of{0}and{1}is{2}'.format(a,b,floor))"
   ]
  },
  {
   "cell_type": "code",
   "execution_count": 12,
   "metadata": {},
   "outputs": [
    {
     "name": "stdout",
     "output_type": "stream",
     "text": [
      "the simple interest is 20.0\n"
     ]
    }
   ],
   "source": [
    "P=1000\n",
    "T=2\n",
    "R=1\n",
    "#simple interest\n",
    "simple=float(P*T*R)/100\n",
    "print(\"the simple interest is\",simple)"
   ]
  },
  {
   "cell_type": "code",
   "execution_count": 14,
   "metadata": {},
   "outputs": [
    {
     "name": "stdout",
     "output_type": "stream",
     "text": [
      "enter the radius5\n",
      "area of circle:78.50\n"
     ]
    }
   ],
   "source": [
    "PI=3.14\n",
    "r=float(input('enter the radius'))\n",
    "area=PI*r*r\n",
    "print(\"area of circle:%.2f\"%area)"
   ]
  },
  {
   "cell_type": "code",
   "execution_count": 16,
   "metadata": {},
   "outputs": [
    {
     "name": "stdout",
     "output_type": "stream",
     "text": [
      "enter first number5\n",
      "enter second number6\n",
      "enter third number7\n",
      "the area of triangle is 14.70\n"
     ]
    }
   ],
   "source": [
    "a=float(input('enter first number'))\n",
    "b=float(input('enter second number'))\n",
    "c=float(input('enter third number'))\n",
    "s=(a+b+c)/2\n",
    "area=(s*(s-a)*(s-b)*(s-c))**0.5\n",
    "print('the area of triangle is %0.2f'%area)\n"
   ]
  },
  {
   "cell_type": "code",
   "execution_count": 17,
   "metadata": {},
   "outputs": [
    {
     "name": "stdout",
     "output_type": "stream",
     "text": [
      "37.0 degree celsius is equal to 98.6 degree fahrenheit\n"
     ]
    }
   ],
   "source": [
    "celsius=37\n",
    "fahrenheit=(celsius*1.8)+32\n",
    "print('%0.1f degree celsius is equal to %0.1f degree fahrenheit'%(celsius,fahrenheit))"
   ]
  },
  {
   "cell_type": "code",
   "execution_count": 19,
   "metadata": {},
   "outputs": [
    {
     "name": "stdout",
     "output_type": "stream",
     "text": [
      "enter first number5\n",
      "enter second number7\n",
      "area of rectangle is:35.00\n"
     ]
    }
   ],
   "source": [
    "l=float(input('enter first number'))\n",
    "b=float(input('enter second number'))\n",
    "area=l*b\n",
    "print(\"area of rectangle is:%0.2f\"%area)"
   ]
  },
  {
   "cell_type": "code",
   "execution_count": 22,
   "metadata": {},
   "outputs": [
    {
     "name": "stdout",
     "output_type": "stream",
     "text": [
      "perimeter of square: 20\n"
     ]
    }
   ],
   "source": [
    "a=5\n",
    "perimeter=4*a\n",
    "print(\"perimeter of square:\",perimeter )"
   ]
  },
  {
   "cell_type": "code",
   "execution_count": 25,
   "metadata": {},
   "outputs": [
    {
     "name": "stdout",
     "output_type": "stream",
     "text": [
      "enter the radius5\n",
      "circumference of circle:31.40\n"
     ]
    }
   ],
   "source": [
    "PI=3.14\n",
    "r=float(input('enter the radius'))\n",
    "circumference=2*PI*r\n",
    "print(\"circumference of circle:%0.2f\"%circumference)"
   ]
  },
  {
   "cell_type": "code",
   "execution_count": 28,
   "metadata": {},
   "outputs": [
    {
     "name": "stdout",
     "output_type": "stream",
     "text": [
      "value of x after swapping:10\n",
      "value of x after swapping:5\n"
     ]
    }
   ],
   "source": [
    "x=5\n",
    "y=10\n",
    "temp=x\n",
    "x=y\n",
    "y=temp\n",
    "print('value of x after swapping:{}'.format(x))\n",
    "print('value of x after swapping:{}'.format(y)) "
   ]
  },
  {
   "cell_type": "code",
   "execution_count": null,
   "metadata": {},
   "outputs": [],
   "source": []
  }
 ],
 "metadata": {
  "kernelspec": {
   "display_name": "Python 3",
   "language": "python",
   "name": "python3"
  },
  "language_info": {
   "codemirror_mode": {
    "name": "ipython",
    "version": 3
   },
   "file_extension": ".py",
   "mimetype": "text/x-python",
   "name": "python",
   "nbconvert_exporter": "python",
   "pygments_lexer": "ipython3",
   "version": "3.8.3"
  }
 },
 "nbformat": 4,
 "nbformat_minor": 4
}
